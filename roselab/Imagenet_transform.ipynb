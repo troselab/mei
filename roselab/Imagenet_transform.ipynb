{
 "cells": [
  {
   "cell_type": "code",
   "execution_count": 3,
   "metadata": {},
   "outputs": [],
   "source": [
    "from PIL import Image\n",
    "import os\n",
    "from tqdm import tqdm\n",
    "from ipywidgets import interact, IntSlider, fixed"
   ]
  },
  {
   "cell_type": "code",
   "execution_count": 4,
   "metadata": {},
   "outputs": [],
   "source": [
    "\n",
    "# Set the path to the folder containing the JPEG files\n",
    "folder_path = '/datajoint-data/data/tobiasr/imagenet-object-localization-challenge/ILSVRC/Data/CLS-LOC/test'\n",
    "\n",
    "# Set the path to the folder containing the JPEG files\n",
    "save_folder_path = '/datajoint-data/data/tobiasr/imagenet_MEI_grayscale/'\n",
    "\n",
    "# Get a list of all files in the folder\n",
    "file_list = os.listdir(folder_path)\n"
   ]
  },
  {
   "cell_type": "code",
   "execution_count": 5,
   "metadata": {},
   "outputs": [
    {
     "name": "stderr",
     "output_type": "stream",
     "text": [
      "Converting files to grayscale:  68%|██████▊   | 68094/100000 [09:25<04:02, 131.62it/s]"
     ]
    }
   ],
   "source": [
    "\n",
    "# Loop through each file in the folder\n",
    "for file_name in tqdm(file_list, desc='Converting files to grayscale'):\n",
    "    # Check if the file is a JPEG image\n",
    "    if file_name.endswith('.jpg') or file_name.endswith('.JPEG'):\n",
    "        # Open the image file\n",
    "        img_path = os.path.join(folder_path, file_name)\n",
    "        img = Image.open(img_path)\n",
    "\n",
    "        # Convert the image to grayscale using the Luma transform\n",
    "        img = img.convert('L')\n",
    "\n",
    "        # Save the grayscale image\n",
    "        new_file_name = os.path.splitext(file_name)[0] + '_gray.jpg'\n",
    "        new_img_path = os.path.join(save_folder_path, new_file_name)\n",
    "        img.save(new_img_path)\n",
    "\n",
    "        # tqdm.write(f'{file_name} converted to grayscale and saved as {new_file_name}')\n"
   ]
  },
  {
   "cell_type": "code",
   "execution_count": null,
   "metadata": {},
   "outputs": [],
   "source": [
    "# Define a function to display the grayscale images in a Jupyter notebook\n",
    "def view_gray_images(file_list, folder_path):\n",
    "    @interact(image_index=IntSlider(min=0, max=len(file_list)-1, step=1, value=0))\n",
    "    def view_image(image_index):\n",
    "        img_path = os.path.join(folder_path, file_list[image_index])\n",
    "        with open(img_path, 'rb') as f:\n",
    "            img_bytes = io.BytesIO(f.read())\n",
    "        img = Image.open(img_bytes)\n",
    "        img.show()"
   ]
  },
  {
   "cell_type": "code",
   "execution_count": null,
   "metadata": {},
   "outputs": [],
   "source": [
    "# Get a list of all gray files in the folder\n",
    "file_list = os.listdir(save_folder_path)\n",
    "\n",
    "# Call the function to display the grayscale images in a Jupyter notebook\n",
    "view_gray_images(file_list, save_folder_path)"
   ]
  }
 ],
 "metadata": {
  "kernelspec": {
   "display_name": "MEI",
   "language": "python",
   "name": "python3"
  },
  "language_info": {
   "codemirror_mode": {
    "name": "ipython",
    "version": 3
   },
   "file_extension": ".py",
   "mimetype": "text/x-python",
   "name": "python",
   "nbconvert_exporter": "python",
   "pygments_lexer": "ipython3",
   "version": "3.11.0"
  },
  "orig_nbformat": 4,
  "vscode": {
   "interpreter": {
    "hash": "2302de3d381e7190b95cf6983e0ee8190d05b7dafcd92d5309bdeb166da939ee"
   }
  }
 },
 "nbformat": 4,
 "nbformat_minor": 2
}
